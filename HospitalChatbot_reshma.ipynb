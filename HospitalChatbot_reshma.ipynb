{
  "nbformat": 4,
  "nbformat_minor": 0,
  "metadata": {
    "colab": {
      "provenance": []
    },
    "kernelspec": {
      "name": "python3",
      "display_name": "Python 3"
    },
    "language_info": {
      "name": "python"
    }
  },
  "cells": [
    {
      "cell_type": "code",
      "execution_count": 1,
      "metadata": {
        "colab": {
          "base_uri": "https://localhost:8080/"
        },
        "id": "QanlTOxn8GA_",
        "outputId": "32c6fe43-8dcd-4941-bea5-1b8bb59a42e7"
      },
      "outputs": [
        {
          "output_type": "stream",
          "name": "stdout",
          "text": [
            "Collecting python-aiml\n",
            "  Downloading python-aiml-0.9.3.zip (2.1 MB)\n",
            "\u001b[2K     \u001b[90m━━━━━━━━━━━━━━━━━━━━━━━━━━━━━━━━━━━━━━━━\u001b[0m \u001b[32m2.1/2.1 MB\u001b[0m \u001b[31m20.1 MB/s\u001b[0m eta \u001b[36m0:00:00\u001b[0m\n",
            "\u001b[?25h  Preparing metadata (setup.py) ... \u001b[?25l\u001b[?25hdone\n",
            "Requirement already satisfied: setuptools in /usr/local/lib/python3.10/dist-packages (from python-aiml) (71.0.4)\n",
            "Building wheels for collected packages: python-aiml\n",
            "  Building wheel for python-aiml (setup.py) ... \u001b[?25l\u001b[?25hdone\n",
            "  Created wheel for python-aiml: filename=python_aiml-0.9.3-py3-none-any.whl size=2122486 sha256=2412661b0fe279d06b7f7e8f508096f2c3e1110653086a57bf5bbaf2557d130d\n",
            "  Stored in directory: /root/.cache/pip/wheels/0d/62/6e/815540b0e885fca8b9fe6ba52b09baae4937e2bde900615f70\n",
            "Successfully built python-aiml\n",
            "Installing collected packages: python-aiml\n",
            "Successfully installed python-aiml-0.9.3\n"
          ]
        }
      ],
      "source": [
        "pip install python-aiml"
      ]
    },
    {
      "cell_type": "code",
      "source": [
        "import aiml"
      ],
      "metadata": {
        "id": "ijOzJ4gT8qoR"
      },
      "execution_count": 2,
      "outputs": []
    },
    {
      "cell_type": "code",
      "source": [
        "# Create the kernel and learn AIML files\n",
        "kernel = aiml.Kernel()\n",
        "kernel.learn(\"/content/hospitalChatbot2.xml\")\n",
        "kernel.respond(\"load prac 2\")"
      ],
      "metadata": {
        "colab": {
          "base_uri": "https://localhost:8080/",
          "height": 70
        },
        "id": "qLJR_a3n8ub3",
        "outputId": "8dcdd747-e285-423f-8a3c-47ca3572f015"
      },
      "execution_count": 4,
      "outputs": [
        {
          "output_type": "stream",
          "name": "stdout",
          "text": [
            "Loading /content/hospitalChatbot2.xml...done (0.00 seconds)\n",
            "Loading /content/hospitalChatbot2.aiml...done (0.00 seconds)\n"
          ]
        },
        {
          "output_type": "execute_result",
          "data": {
            "text/plain": [
              "''"
            ],
            "application/vnd.google.colaboratory.intrinsic+json": {
              "type": "string"
            }
          },
          "metadata": {},
          "execution_count": 4
        }
      ]
    },
    {
      "cell_type": "code",
      "source": [
        "while True:\n",
        "    input_text= input(\">You: \")\n",
        "    response =kernel.respond(input_text)\n",
        "    print(\">Bot: \"+response)"
      ],
      "metadata": {
        "colab": {
          "base_uri": "https://localhost:8080/"
        },
        "id": "YLLrbOzB8yM1",
        "outputId": "375f2f25-ab6a-453c-e86b-6cf66137c038"
      },
      "execution_count": null,
      "outputs": [
        {
          "name": "stdout",
          "output_type": "stream",
          "text": [
            ">You: hii\n"
          ]
        },
        {
          "output_type": "stream",
          "name": "stderr",
          "text": [
            "WARNING: No match found for input: hii\n"
          ]
        },
        {
          "output_type": "stream",
          "name": "stdout",
          "text": [
            ">Bot: \n",
            ">You: hi\n",
            ">Bot: Hi there! What can I help you with?\n"
          ]
        }
      ]
    },
    {
      "cell_type": "code",
      "source": [],
      "metadata": {
        "id": "7cVN2u_G9dgb"
      },
      "execution_count": null,
      "outputs": []
    }
  ]
}